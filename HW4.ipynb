{
 "cells": [
  {
   "cell_type": "markdown",
   "metadata": {
    "colab_type": "text",
    "id": "fm2YWUGvts2-"
   },
   "source": [
    "# Функции\n",
    "### Домашнее задание"
   ]
  },
  {
   "cell_type": "markdown",
   "metadata": {
    "colab_type": "text",
    "id": "vtadtcbgts3A"
   },
   "source": [
    "#### 1.\n",
    "Почему возникла ошибка? Объясните и исправьте."
   ]
  },
  {
   "cell_type": "code",
   "execution_count": 0,
   "metadata": {
    "colab": {},
    "colab_type": "code",
    "id": "wYCHLbgJts3C",
    "outputId": "a5d47ca5-71fb-4003-ce4b-101f4c938e38"
   },
   "outputs": [
    {
     "ename": "NameError",
     "evalue": "name 'f' is not defined",
     "output_type": "error",
     "traceback": [
      "\u001b[0;31m---------------------------------------------------------------------------\u001b[0m",
      "\u001b[0;31mNameError\u001b[0m                                 Traceback (most recent call last)",
      "\u001b[0;32m<ipython-input-11-9e89138602aa>\u001b[0m in \u001b[0;36m<module>\u001b[0;34m()\u001b[0m\n\u001b[1;32m      6\u001b[0m \u001b[0;34m\u001b[0m\u001b[0m\n\u001b[1;32m      7\u001b[0m \u001b[0mfactorial\u001b[0m\u001b[0;34m(\u001b[0m\u001b[0;36m3\u001b[0m\u001b[0;34m)\u001b[0m\u001b[0;34m\u001b[0m\u001b[0m\n\u001b[0;32m----> 8\u001b[0;31m \u001b[0mprint\u001b[0m\u001b[0;34m(\u001b[0m\u001b[0mf\u001b[0m\u001b[0;34m)\u001b[0m\u001b[0;34m\u001b[0m\u001b[0m\n\u001b[0m",
      "\u001b[0;31mNameError\u001b[0m: name 'f' is not defined"
     ]
    }
   ],
   "source": [
    "def factorial(n):\n",
    "    f = 1\n",
    "    for i in range(2, n + 1):\n",
    "        f = f * i\n",
    "    return f\n",
    "\n",
    "factorial(3)\n",
    "print(f)"
   ]
  },
  {
   "cell_type": "code",
   "execution_count": 1,
   "metadata": {},
   "outputs": [
    {
     "data": {
      "text/plain": [
       "6"
      ]
     },
     "execution_count": 1,
     "metadata": {},
     "output_type": "execute_result"
    }
   ],
   "source": [
    "def factorial(n):\n",
    "    f = 1\n",
    "    for i in range(2, n + 1):\n",
    "        f = f * i\n",
    "    return f\n",
    "factorial(3)"
   ]
  },
  {
   "cell_type": "markdown",
   "metadata": {
    "colab_type": "text",
    "id": "4AEgqr_Its3I"
   },
   "source": [
    "**Объяснение:** \n",
    "<br><br>\n",
    "f - локальная переменная заданная внутри функции, она не существует за ее пределами и, либо надо ее задать явно как глобальную переменную, либо не обращаться к ней вне функции"
   ]
  },
  {
   "cell_type": "markdown",
   "metadata": {
    "colab_type": "text",
    "id": "A9jbY_Ixts3K"
   },
   "source": [
    "#### 2.\n",
    "Почему переменная S после запуска функции сохранила значение ноль?"
   ]
  },
  {
   "cell_type": "code",
   "execution_count": 2,
   "metadata": {
    "colab": {},
    "colab_type": "code",
    "id": "A_cfBf0Dts3L",
    "outputId": "6f596828-96d2-45bc-d050-56292af00604"
   },
   "outputs": [
    {
     "name": "stdout",
     "output_type": "stream",
     "text": [
      "7\n",
      "0\n"
     ]
    }
   ],
   "source": [
    "S = 0\n",
    "def sum(n, m):\n",
    "    S = n + m\n",
    "    return S\n",
    "\n",
    "print(sum(3, 4))\n",
    "print(S)"
   ]
  },
  {
   "cell_type": "markdown",
   "metadata": {
    "colab_type": "text",
    "id": "oxwz4yVYts3P"
   },
   "source": [
    "**Объяснение:** \n",
    "<br><br>\n",
    "она определена как глобальная"
   ]
  },
  {
   "cell_type": "markdown",
   "metadata": {
    "colab_type": "text",
    "id": "ws1lmJfhts3R"
   },
   "source": [
    "#### 3.\n",
    "Почему возникла ошибка? Объясните и исправьте, чтобы функция могла работать с данными на входе в примере с `res`."
   ]
  },
  {
   "cell_type": "code",
   "execution_count": 3,
   "metadata": {
    "colab": {},
    "colab_type": "code",
    "id": "ad8eYc35ts3S",
    "outputId": "c991c697-d867-4403-f1fd-5851d65b7942"
   },
   "outputs": [
    {
     "ename": "TypeError",
     "evalue": "mult() takes 0 positional arguments but 6 were given",
     "output_type": "error",
     "traceback": [
      "\u001b[1;31m---------------------------------------------------------------------------\u001b[0m",
      "\u001b[1;31mTypeError\u001b[0m                                 Traceback (most recent call last)",
      "\u001b[1;32m<ipython-input-3-276f6ede15a2>\u001b[0m in \u001b[0;36m<module>\u001b[1;34m\u001b[0m\n\u001b[0;32m      1\u001b[0m \u001b[1;32mdef\u001b[0m \u001b[0mmult\u001b[0m\u001b[1;33m(\u001b[0m\u001b[1;33m*\u001b[0m\u001b[1;33m,\u001b[0m \u001b[0mq\u001b[0m\u001b[1;33m,\u001b[0m \u001b[0mw\u001b[0m\u001b[1;33m,\u001b[0m \u001b[0me\u001b[0m\u001b[1;33m,\u001b[0m \u001b[0mr\u001b[0m\u001b[1;33m,\u001b[0m \u001b[0mt\u001b[0m\u001b[1;33m,\u001b[0m \u001b[0my\u001b[0m\u001b[1;33m)\u001b[0m\u001b[1;33m:\u001b[0m\u001b[1;33m\u001b[0m\u001b[1;33m\u001b[0m\u001b[0m\n\u001b[0;32m      2\u001b[0m     \u001b[1;32mreturn\u001b[0m \u001b[0mq\u001b[0m \u001b[1;33m+\u001b[0m \u001b[0mw\u001b[0m \u001b[1;33m+\u001b[0m \u001b[0me\u001b[0m \u001b[1;33m+\u001b[0m \u001b[0mr\u001b[0m \u001b[1;33m+\u001b[0m \u001b[0mt\u001b[0m \u001b[1;33m+\u001b[0m \u001b[0my\u001b[0m\u001b[1;33m\u001b[0m\u001b[1;33m\u001b[0m\u001b[0m\n\u001b[1;32m----> 3\u001b[1;33m \u001b[0mres\u001b[0m \u001b[1;33m=\u001b[0m \u001b[0mmult\u001b[0m\u001b[1;33m(\u001b[0m\u001b[1;36m1\u001b[0m\u001b[1;33m,\u001b[0m \u001b[1;36m2\u001b[0m\u001b[1;33m,\u001b[0m \u001b[1;36m3\u001b[0m\u001b[1;33m,\u001b[0m \u001b[1;36m4\u001b[0m\u001b[1;33m,\u001b[0m \u001b[1;36m5\u001b[0m\u001b[1;33m,\u001b[0m \u001b[1;36m6\u001b[0m\u001b[1;33m)\u001b[0m\u001b[1;33m\u001b[0m\u001b[1;33m\u001b[0m\u001b[0m\n\u001b[0m",
      "\u001b[1;31mTypeError\u001b[0m: mult() takes 0 positional arguments but 6 were given"
     ]
    }
   ],
   "source": [
    "def mult(*, q, w, e, r, t, y):\n",
    "    return q + w + e + r + t + y\n",
    "res = mult(1, 2, 3, 4, 5, 6)"
   ]
  },
  {
   "cell_type": "code",
   "execution_count": 4,
   "metadata": {},
   "outputs": [
    {
     "data": {
      "text/plain": [
       "21"
      ]
     },
     "execution_count": 4,
     "metadata": {},
     "output_type": "execute_result"
    }
   ],
   "source": [
    "def mult(*, q, w, e, r, t, y):\n",
    "    return q + w + e + r + t + y\n",
    "res = mult(q=1, w=2, e=3, r=4, t=5, y=6)\n",
    "res"
   ]
  },
  {
   "cell_type": "markdown",
   "metadata": {
    "colab_type": "text",
    "id": "yVwoWfiWts3Y"
   },
   "source": [
    "**Объяснение:** \n",
    "<br><br>\n",
    "указывает что следующие за ней параметры должны указываться явно, для решения задачи либо убрать ее либо указать параметры явно при вызове функции|"
   ]
  },
  {
   "cell_type": "markdown",
   "metadata": {
    "colab_type": "text",
    "id": "UTT3sbJXts3a"
   },
   "source": [
    "#### 4.\n",
    "Почему возникла ошибка? Объясните и исправьте, чтобы функция могла работать с данными на входе в примере."
   ]
  },
  {
   "cell_type": "code",
   "execution_count": 0,
   "metadata": {
    "colab": {},
    "colab_type": "code",
    "id": "xizQ5rdqts3b",
    "outputId": "a52d4f28-5521-48fe-a968-13b7491cfb65"
   },
   "outputs": [
    {
     "ename": "SyntaxError",
     "evalue": "positional argument follows keyword argument (<ipython-input-28-4c11a09d0cf9>, line 4)",
     "output_type": "error",
     "traceback": [
      "\u001b[0;36m  File \u001b[0;32m\"<ipython-input-28-4c11a09d0cf9>\"\u001b[0;36m, line \u001b[0;32m4\u001b[0m\n\u001b[0;31m    power(d = 4, 5, 6)\u001b[0m\n\u001b[0m                ^\u001b[0m\n\u001b[0;31mSyntaxError\u001b[0m\u001b[0;31m:\u001b[0m positional argument follows keyword argument\n"
     ]
    }
   ],
   "source": [
    "def power(a, s, *, d):\n",
    "    res = a ** s ** d\n",
    "    print(res)\n",
    "    \n",
    "power(d = 4, 5, 6)\n"
   ]
  },
  {
   "cell_type": "code",
   "execution_count": 5,
   "metadata": {},
   "outputs": [
    {
     "name": "stdout",
     "output_type": "stream",
     "text": [
      "733036532959081958493044038604220573003076872623105825587799726719137081664242889213090239865705342028379233496941111919796792708971905802219444504019006104332493489107721493845412453899793946281899700834091715387952751830219643610349979360602856524762182507733859966860842500858768382394753399581156286449561160783713877222895092808637540218804927005623038569306841733685039433236910980897592858987002063924013988530964522502594931500371157643132061597303111367258489022159044511817010529399435883286083212695075903281596592105429678751689059533454035251548334986509241552406961532864939006610513597608967402985707857424513196823658884413602881077337616965779954194874666031301491450438900838443296921074535307486056701074634195717288344127864971903293281532919139948732795811179970577905638353069459326437465009401802406334569163539571111057039009740125070184999823974525412495495402254164218902587890625\n"
     ]
    }
   ],
   "source": [
    "def power(a, s, *, d):\n",
    "    res = a ** s ** d\n",
    "    print(res)\n",
    "    \n",
    "power(5, 6, d = 4)"
   ]
  },
  {
   "cell_type": "markdown",
   "metadata": {},
   "source": [
    "**Объяснение:** \n",
    "<br><br>\n",
    "при вызове функции сначала дожны быть указаны позиционные параметры, а затем именованные"
   ]
  },
  {
   "cell_type": "markdown",
   "metadata": {
    "colab_type": "text",
    "id": "GfY6txsXts3f"
   },
   "source": [
    "#### 5.\n",
    "Почему возникла ошибка? Объясните и исправьте, чтобы функция могла работать с данными на входе в примере."
   ]
  },
  {
   "cell_type": "code",
   "execution_count": 0,
   "metadata": {
    "colab": {},
    "colab_type": "code",
    "id": "oYQQA2PBts3g",
    "outputId": "7036c68d-1c7f-4034-f3de-816e075f6059"
   },
   "outputs": [
    {
     "ename": "TypeError",
     "evalue": "unsupported operand type(s) for +=: 'int' and 'list'",
     "output_type": "error",
     "traceback": [
      "\u001b[0;31m---------------------------------------------------------------------------\u001b[0m",
      "\u001b[0;31mTypeError\u001b[0m                                 Traceback (most recent call last)",
      "\u001b[0;32m<ipython-input-48-8e59e484de93>\u001b[0m in \u001b[0;36m<module>\u001b[0;34m()\u001b[0m\n\u001b[1;32m      6\u001b[0m \u001b[0;34m\u001b[0m\u001b[0m\n\u001b[1;32m      7\u001b[0m \u001b[0mList\u001b[0m \u001b[0;34m=\u001b[0m \u001b[0;34m[\u001b[0m\u001b[0;36m1\u001b[0m\u001b[0;34m,\u001b[0m \u001b[0;36m2\u001b[0m\u001b[0;34m,\u001b[0m \u001b[0;36m3\u001b[0m\u001b[0;34m,\u001b[0m \u001b[0;36m4\u001b[0m\u001b[0;34m,\u001b[0m \u001b[0;36m5\u001b[0m\u001b[0;34m,\u001b[0m \u001b[0;36m6\u001b[0m\u001b[0;34m,\u001b[0m \u001b[0;36m7\u001b[0m\u001b[0;34m]\u001b[0m\u001b[0;34m\u001b[0m\u001b[0m\n\u001b[0;32m----> 8\u001b[0;31m \u001b[0mprint\u001b[0m\u001b[0;34m(\u001b[0m\u001b[0mmult2\u001b[0m\u001b[0;34m(\u001b[0m\u001b[0mList\u001b[0m\u001b[0;34m)\u001b[0m\u001b[0;34m)\u001b[0m\u001b[0;34m\u001b[0m\u001b[0m\n\u001b[0m",
      "\u001b[0;32m<ipython-input-48-8e59e484de93>\u001b[0m in \u001b[0;36mmult2\u001b[0;34m(*args)\u001b[0m\n\u001b[1;32m      2\u001b[0m     \u001b[0mres\u001b[0m \u001b[0;34m=\u001b[0m \u001b[0;36m1\u001b[0m\u001b[0;34m\u001b[0m\u001b[0m\n\u001b[1;32m      3\u001b[0m     \u001b[0;32mfor\u001b[0m \u001b[0mi\u001b[0m \u001b[0;32min\u001b[0m \u001b[0margs\u001b[0m\u001b[0;34m:\u001b[0m\u001b[0;34m\u001b[0m\u001b[0m\n\u001b[0;32m----> 4\u001b[0;31m         \u001b[0mres\u001b[0m \u001b[0;34m+=\u001b[0m \u001b[0mi\u001b[0m\u001b[0;34m\u001b[0m\u001b[0m\n\u001b[0m\u001b[1;32m      5\u001b[0m     \u001b[0;32mreturn\u001b[0m \u001b[0mres\u001b[0m\u001b[0;34m\u001b[0m\u001b[0m\n\u001b[1;32m      6\u001b[0m \u001b[0;34m\u001b[0m\u001b[0m\n",
      "\u001b[0;31mTypeError\u001b[0m: unsupported operand type(s) for +=: 'int' and 'list'"
     ]
    }
   ],
   "source": [
    "def mult2(*args):\n",
    "    res = 1\n",
    "    for i in args:\n",
    "        res += i\n",
    "    return res\n",
    "\n",
    "List = [1, 2, 3, 4, 5, 6, 7]\n",
    "print(mult2(List))"
   ]
  },
  {
   "cell_type": "code",
   "execution_count": 6,
   "metadata": {},
   "outputs": [
    {
     "name": "stdout",
     "output_type": "stream",
     "text": [
      "29\n"
     ]
    }
   ],
   "source": [
    "def mult2(args):\n",
    "    res = 1\n",
    "    for i in args:\n",
    "        res += i\n",
    "    return res\n",
    "\n",
    "List = [1, 2, 3, 4, 5, 6, 7]\n",
    "print(mult2(List))"
   ]
  },
  {
   "cell_type": "markdown",
   "metadata": {},
   "source": [
    "**Объяснение:** \n",
    "<br>необходимо, распаковать список чтобы передавать и считывать его поэлементно, либо передавать в список в виде параметра<br>"
   ]
  },
  {
   "cell_type": "markdown",
   "metadata": {
    "colab_type": "text",
    "id": "QcuTA23Uts3l"
   },
   "source": [
    "#### 6.\n",
    "Почему возникла ошибка? Объясните и исправьте."
   ]
  },
  {
   "cell_type": "code",
   "execution_count": 0,
   "metadata": {
    "colab": {},
    "colab_type": "code",
    "id": "N51MkraMts3n",
    "outputId": "21cd0746-6fa8-45d8-dab1-d050fc5c6034"
   },
   "outputs": [
    {
     "ename": "SyntaxError",
     "evalue": "invalid syntax (<ipython-input-52-efe9f896dc4b>, line 1)",
     "output_type": "error",
     "traceback": [
      "\u001b[0;36m  File \u001b[0;32m\"<ipython-input-52-efe9f896dc4b>\"\u001b[0;36m, line \u001b[0;32m1\u001b[0m\n\u001b[0;31m    def some_function(a, b, **kwargs, *args):\u001b[0m\n\u001b[0m                                      ^\u001b[0m\n\u001b[0;31mSyntaxError\u001b[0m\u001b[0;31m:\u001b[0m invalid syntax\n"
     ]
    }
   ],
   "source": [
    "def some_function(a, b, **kwargs, *args):\n",
    "    pass"
   ]
  },
  {
   "cell_type": "code",
   "execution_count": 8,
   "metadata": {},
   "outputs": [],
   "source": [
    "def some_function(a, b, *args, **kwargs):\n",
    "    pass"
   ]
  },
  {
   "cell_type": "markdown",
   "metadata": {
    "colab_type": "text",
    "id": "Mj0qEUurts36"
   },
   "source": [
    "**Объяснение:** \n",
    "<br>необходимо, чтобы при вызове функции были сначала указаны позиционные параметры, а затем именованные<br>"
   ]
  },
  {
   "cell_type": "markdown",
   "metadata": {
    "colab_type": "text",
    "id": "Me-VY77Bts37"
   },
   "source": [
    "#### 7.\n",
    "Почему не был создан новый список при повторном запуске функции? Объясните и исправьте."
   ]
  },
  {
   "cell_type": "code",
   "execution_count": 16,
   "metadata": {},
   "outputs": [
    {
     "name": "stdout",
     "output_type": "stream",
     "text": [
      "['яблоки', 'молоко', 'хлеб']\n",
      "['яблоки', 'молоко', 'хлеб', 'груши', 'йогурт', 'мясо']\n"
     ]
    }
   ],
   "source": [
    "def to_buy(*new_items, shopping_list = []):\n",
    "    for i in new_items:\n",
    "        shopping_list.append(i)\n",
    "    return shopping_list\n",
    "\n",
    "monday = to_buy('яблоки', 'молоко', 'хлеб')\n",
    "print(monday)\n",
    "\n",
    "tuesday = to_buy('груши', 'йогурт', 'мясо')\n",
    "print(tuesday)"
   ]
  },
  {
   "cell_type": "code",
   "execution_count": 9,
   "metadata": {},
   "outputs": [
    {
     "name": "stdout",
     "output_type": "stream",
     "text": [
      "['яблоки', 'молоко', 'хлеб']\n",
      "['груши', 'йогурт', 'мясо']\n"
     ]
    }
   ],
   "source": [
    "def to_buy(*new_items, shopping_list = None):\n",
    "    if shopping_list == None:\n",
    "        shopping_list = []\n",
    "    for i in new_items:\n",
    "        shopping_list.append(i)\n",
    "    return shopping_list\n",
    "\n",
    "monday = to_buy('яблоки', 'молоко', 'хлеб')\n",
    "print(monday)\n",
    "\n",
    "tuesday = to_buy('груши', 'йогурт', 'мясо')\n",
    "print(tuesday)"
   ]
  },
  {
   "cell_type": "markdown",
   "metadata": {
    "colab_type": "text",
    "id": "nfb7HR6Lts4I"
   },
   "source": [
    "**Объяснение:** \n",
    "<br>значение по умолчанию для функции инициализируется только один раз, во время определения функции, поэтому  нельзя создавать в качестве значения по умолчанию изменяемый объект<br>"
   ]
  },
  {
   "cell_type": "markdown",
   "metadata": {
    "colab_type": "text",
    "id": "nXWDuX9Kts4J"
   },
   "source": [
    "#### 8.\n",
    "Измените данную функцию так, чтобы она распечатывала названия продуктов из словаря в примере.\n"
   ]
  },
  {
   "cell_type": "code",
   "execution_count": 0,
   "metadata": {
    "colab": {},
    "colab_type": "code",
    "id": "SBW9DRlots4L",
    "outputId": "500ecd98-600a-4075-83fa-5c897ef31df8"
   },
   "outputs": [
    {
     "ename": "TypeError",
     "evalue": "'dict' object is not callable",
     "output_type": "error",
     "traceback": [
      "\u001b[0;31m---------------------------------------------------------------------------\u001b[0m",
      "\u001b[0;31mTypeError\u001b[0m                                 Traceback (most recent call last)",
      "\u001b[0;32m<ipython-input-63-23f30bebf8ac>\u001b[0m in \u001b[0;36m<module>\u001b[0;34m()\u001b[0m\n\u001b[1;32m      3\u001b[0m         \u001b[0mprint\u001b[0m\u001b[0;34m(\u001b[0m\u001b[0mi\u001b[0m\u001b[0;34m)\u001b[0m\u001b[0;34m\u001b[0m\u001b[0m\n\u001b[1;32m      4\u001b[0m \u001b[0;34m\u001b[0m\u001b[0m\n\u001b[0;32m----> 5\u001b[0;31m \u001b[0mprint_all\u001b[0m\u001b[0;34m(\u001b[0m\u001b[0;34m**\u001b[0m\u001b[0;34m{\u001b[0m\u001b[0;34m'x'\u001b[0m \u001b[0;34m:\u001b[0m \u001b[0;34m'яблоки'\u001b[0m\u001b[0;34m,\u001b[0m \u001b[0;34m'y'\u001b[0m \u001b[0;34m:\u001b[0m\u001b[0;34m'молоко'\u001b[0m\u001b[0;34m,\u001b[0m \u001b[0;34m'z'\u001b[0m \u001b[0;34m:\u001b[0m \u001b[0;34m'хлеб'\u001b[0m\u001b[0;34m,\u001b[0m \u001b[0;34m'e'\u001b[0m \u001b[0;34m:\u001b[0m \u001b[0;34m'груши'\u001b[0m\u001b[0;34m,\u001b[0m \u001b[0;34m'o'\u001b[0m \u001b[0;34m:\u001b[0m \u001b[0;34m'йогурт'\u001b[0m\u001b[0;34m,\u001b[0m \u001b[0;34m'p'\u001b[0m \u001b[0;34m:\u001b[0m \u001b[0;34m'мясо'\u001b[0m\u001b[0;34m}\u001b[0m\u001b[0;34m)\u001b[0m\u001b[0;34m\u001b[0m\u001b[0m\n\u001b[0m",
      "\u001b[0;32m<ipython-input-63-23f30bebf8ac>\u001b[0m in \u001b[0;36mprint_all\u001b[0;34m(**kwargs)\u001b[0m\n\u001b[1;32m      1\u001b[0m \u001b[0;32mdef\u001b[0m \u001b[0mprint_all\u001b[0m\u001b[0;34m(\u001b[0m\u001b[0;34m**\u001b[0m\u001b[0mkwargs\u001b[0m\u001b[0;34m)\u001b[0m\u001b[0;34m:\u001b[0m\u001b[0;34m\u001b[0m\u001b[0m\n\u001b[0;32m----> 2\u001b[0;31m     \u001b[0;32mfor\u001b[0m \u001b[0mi\u001b[0m \u001b[0;32min\u001b[0m \u001b[0mkwargs\u001b[0m\u001b[0;34m(\u001b[0m\u001b[0;34m)\u001b[0m\u001b[0;34m:\u001b[0m\u001b[0;34m\u001b[0m\u001b[0m\n\u001b[0m\u001b[1;32m      3\u001b[0m         \u001b[0mprint\u001b[0m\u001b[0;34m(\u001b[0m\u001b[0mi\u001b[0m\u001b[0;34m)\u001b[0m\u001b[0;34m\u001b[0m\u001b[0m\n\u001b[1;32m      4\u001b[0m \u001b[0;34m\u001b[0m\u001b[0m\n\u001b[1;32m      5\u001b[0m \u001b[0mprint_all\u001b[0m\u001b[0;34m(\u001b[0m\u001b[0;34m**\u001b[0m\u001b[0;34m{\u001b[0m\u001b[0;34m'x'\u001b[0m \u001b[0;34m:\u001b[0m \u001b[0;34m'яблоки'\u001b[0m\u001b[0;34m,\u001b[0m \u001b[0;34m'y'\u001b[0m \u001b[0;34m:\u001b[0m\u001b[0;34m'молоко'\u001b[0m\u001b[0;34m,\u001b[0m \u001b[0;34m'z'\u001b[0m \u001b[0;34m:\u001b[0m \u001b[0;34m'хлеб'\u001b[0m\u001b[0;34m,\u001b[0m \u001b[0;34m'e'\u001b[0m \u001b[0;34m:\u001b[0m \u001b[0;34m'груши'\u001b[0m\u001b[0;34m,\u001b[0m \u001b[0;34m'o'\u001b[0m \u001b[0;34m:\u001b[0m \u001b[0;34m'йогурт'\u001b[0m\u001b[0;34m,\u001b[0m \u001b[0;34m'p'\u001b[0m \u001b[0;34m:\u001b[0m \u001b[0;34m'мясо'\u001b[0m\u001b[0;34m}\u001b[0m\u001b[0;34m)\u001b[0m\u001b[0;34m\u001b[0m\u001b[0m\n",
      "\u001b[0;31mTypeError\u001b[0m: 'dict' object is not callable"
     ]
    }
   ],
   "source": [
    "def print_all(*kwargs):\n",
    "    for i in kwargs():\n",
    "        print(i)\n",
    "        \n",
    "print_all(*{'1' : 'яблоки', '2' :'молоко', '3' : 'хлеб', '4' : 'груши', '5' : 'йогурт', '6' : 'мясо'})"
   ]
  },
  {
   "cell_type": "code",
   "execution_count": 10,
   "metadata": {},
   "outputs": [
    {
     "name": "stdout",
     "output_type": "stream",
     "text": [
      "яблоки\n",
      "молоко\n",
      "хлеб\n",
      "груши\n",
      "йогурт\n",
      "мясо\n"
     ]
    }
   ],
   "source": [
    "def print_all(**kwargs):\n",
    "    for i in kwargs.values():\n",
    "        print(i)\n",
    "        \n",
    "print_all(**{'1' : 'яблоки', '2' :'молоко', '3' : 'хлеб', '4' : 'груши', '5' : 'йогурт', '6' : 'мясо'})"
   ]
  },
  {
   "cell_type": "markdown",
   "metadata": {
    "colab_type": "text",
    "id": "Qse7He_ets4W"
   },
   "source": [
    "#### 9.\n",
    "Программисты договорились, что переменные такого рода являются.. *(вопрос из лекции)*"
   ]
  },
  {
   "cell_type": "code",
   "execution_count": 0,
   "metadata": {
    "colab": {},
    "colab_type": "code",
    "id": "GZldqNGTts4Y"
   },
   "outputs": [],
   "source": [
    "TOKEN = ..."
   ]
  },
  {
   "cell_type": "markdown",
   "metadata": {
    "colab_type": "text",
    "id": "XwagZX5bts4c"
   },
   "source": [
    "**Ответ:** \n",
    "<br>константами<br>"
   ]
  },
  {
   "cell_type": "markdown",
   "metadata": {
    "colab_type": "text",
    "id": "GhEM45Mots4d"
   },
   "source": [
    "#### 10.\n",
    "Напишите функцию, которая с помощью рекурсии считает сумму последовательности с шагом m. В качестве аргументов подаются целые положительные числа n (последний элемент последовательности) и m (шаг последовательности). Считается, что все члены последовательности являются целыми положительными числами.\n",
    "\n",
    "Пример:\n",
    "\n",
    "```\n",
    "sum_of_seq(5, 1)\n",
    "15\n",
    " \n",
    "sum_of_seq(5, 9)\n",
    "5\n",
    "\n",
    "sum_of_seq(8, 2)\n",
    "20\n",
    "```\n"
   ]
  },
  {
   "cell_type": "code",
   "execution_count": 11,
   "metadata": {
    "colab": {},
    "colab_type": "code",
    "id": "vPXkJ79ats4e"
   },
   "outputs": [
    {
     "name": "stdout",
     "output_type": "stream",
     "text": [
      "15\n",
      "5\n",
      "20\n"
     ]
    }
   ],
   "source": [
    "def sum_of_seq(end, step):\n",
    "    if end <= 0:\n",
    "        return 0\n",
    "    return end + sum_of_seq(end - step,step)\n",
    "\n",
    "\n",
    "\n",
    "print(sum_of_seq(5, 1))\n",
    "print(sum_of_seq(5, 9))\n",
    "print(sum_of_seq(8, 2))"
   ]
  },
  {
   "cell_type": "markdown",
   "metadata": {
    "colab_type": "text",
    "id": "_nuDRzdBts4k"
   },
   "source": [
    "#### 11.\n",
    "Напишите функцию, которая возводит число в положительную степень с помощью рекурсии. В качестве аргументов подаются целые положительные числа n (число) и m (степень)."
   ]
  },
  {
   "cell_type": "code",
   "execution_count": 12,
   "metadata": {
    "colab": {},
    "colab_type": "code",
    "id": "_9_BMZCxts4m"
   },
   "outputs": [],
   "source": [
    "def sum_of_seq(end, step):\n",
    "    if end <= 0:\n",
    "        return 0\n",
    "    return end + sum_of_seq(end - step,step)"
   ]
  },
  {
   "cell_type": "markdown",
   "metadata": {
    "colab_type": "text",
    "id": "1K4dbMwcts4v"
   },
   "source": [
    "#### 12.\n",
    "Напишите функцию, которая возводит число в отрицательную степень число с помощью рекурсии. В качестве аргументов подаются целое положительное число n (число) и целое отрицательное число m (степень)."
   ]
  },
  {
   "cell_type": "code",
   "execution_count": 14,
   "metadata": {
    "colab": {},
    "colab_type": "code",
    "id": "ddZY7Fdxts4x"
   },
   "outputs": [],
   "source": [
    "def degree(num, rate):\n",
    "    if rate == 0:\n",
    "        return 1\n",
    "    if rate < 0:\n",
    "        return 1 / degree(num, -rate)\n",
    "    return num * degree(num, rate-1)"
   ]
  },
  {
   "cell_type": "markdown",
   "metadata": {
    "colab_type": "text",
    "id": "IxBt4VyQts41"
   },
   "source": [
    "#### 13.\n",
    "\n",
    "Напишите функцию, которая находит число Фиббоначи по его номеру. В качестве аргумента подается целое положительное число n (число)."
   ]
  },
  {
   "cell_type": "code",
   "execution_count": 15,
   "metadata": {
    "colab": {},
    "colab_type": "code",
    "id": "8DEaBWjkts43"
   },
   "outputs": [
    {
     "data": {
      "text/plain": [
       "21"
      ]
     },
     "execution_count": 15,
     "metadata": {},
     "output_type": "execute_result"
    }
   ],
   "source": [
    "def fib(n):\n",
    "    f1 = 0\n",
    "    f2 = 1\n",
    "    for __ in range(n):\n",
    "        f1, f2 = f2, f1 + f2\n",
    "    return f1\n",
    "\n",
    "fib(8)"
   ]
  }
 ],
 "metadata": {
  "colab": {
   "collapsed_sections": [],
   "name": "jun_anl_functions.ipynb",
   "provenance": []
  },
  "kernelspec": {
   "display_name": "Python 3",
   "language": "python",
   "name": "python3"
  },
  "language_info": {
   "codemirror_mode": {
    "name": "ipython",
    "version": 3
   },
   "file_extension": ".py",
   "mimetype": "text/x-python",
   "name": "python",
   "nbconvert_exporter": "python",
   "pygments_lexer": "ipython3",
   "version": "3.7.3"
  }
 },
 "nbformat": 4,
 "nbformat_minor": 1
}
